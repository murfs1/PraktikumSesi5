{
 "cells": [
  {
   "cell_type": "markdown",
   "id": "ee13c9fa",
   "metadata": {},
   "source": [
    "# Latihan 1\n",
    "1. Buatlah variabel dengan nama hobi, yang digunakan untuk menampung input dari user dengan label \"Hobi kamu apa? : \" , kemudian Cetaklah dengan label Hobi kamu : {hobi}\n",
    "2. Buatlah variabel nama, yang digunakan untuk menampung input dari user dengan label \"Siapa nama kamu? : \" , misal user mengisikan nama \"Romi\" maka akan tampil output Nama kamu berawalan huruf R\n"
   ]
  },
  {
   "cell_type": "code",
   "execution_count": 1,
   "id": "95ce2933",
   "metadata": {},
   "outputs": [
    {
     "name": "stdout",
     "output_type": "stream",
     "text": [
      "Hobi kamu apa? :Membaca\n",
      "Hobi kamu Membaca\n"
     ]
    }
   ],
   "source": [
    "hobi = input('Hobi kamu apa? :')\n",
    "print(f\"Hobi kamu {hobi}\")"
   ]
  },
  {
   "cell_type": "code",
   "execution_count": 2,
   "id": "bf71167f",
   "metadata": {},
   "outputs": [
    {
     "name": "stdout",
     "output_type": "stream",
     "text": [
      "Siapa nama kamu :Muhamad Rifda Firdaus. S\n",
      "Nama kamu berawalan huruf M\n"
     ]
    }
   ],
   "source": [
    "nama = input('Siapa nama kamu :')\n",
    "print(f\"Nama kamu berawalan huruf {nama[0]}\")"
   ]
  },
  {
   "cell_type": "markdown",
   "id": "92cca87b",
   "metadata": {},
   "source": [
    "# Latihan 2\n",
    "1. Buatlah program tebak hasil dari perkalian dari 2 angka dari 0 sampai 100, jika user menjawab benar maka tampil Jawaban anda True dan jika salah, maka akan tampil Jawaban anda False"
   ]
  },
  {
   "cell_type": "code",
   "execution_count": 3,
   "id": "e5e06da8",
   "metadata": {},
   "outputs": [
    {
     "name": "stdout",
     "output_type": "stream",
     "text": [
      "Berapakah hasil perkalian 39 dan 40 : 56\n",
      "Jawaban anda False\n"
     ]
    }
   ],
   "source": [
    "from random import randint\n",
    "angka_1 = randint(0,100)\n",
    "angka_2 = randint(0,100)\n",
    "\n",
    "hasil = int(input(f\"Berapakah hasil perkalian {angka_1} dan {angka_2} : \"))\n",
    "print(f\"Jawaban anda {hasil==angka_1 * angka_2}\")"
   ]
  },
  {
   "cell_type": "markdown",
   "id": "005e832a",
   "metadata": {},
   "source": [
    "Carilah kode CLDR Names dan unicode dari emoji, dan cetaklah menggunakan fungsi print"
   ]
  },
  {
   "cell_type": "code",
   "execution_count": 12,
   "id": "efc0a87f",
   "metadata": {},
   "outputs": [
    {
     "name": "stdout",
     "output_type": "stream",
     "text": [
      "Names : money-mouth face\n",
      "Unicode : U0001F911\n",
      "Code : 🤑\n"
     ]
    }
   ],
   "source": [
    "print(\"Names : money-mouth face\")\n",
    "print(\"Unicode : U0001F911\")\n",
    "print(\"Code : \\U0001F911\")"
   ]
  },
  {
   "cell_type": "markdown",
   "id": "b98d327a",
   "metadata": {},
   "source": [
    "# Latihan 3\n",
    "Jika terdapat sebuah string Belajar Pemrograman Python Maka tampilkan output berikut ini menggunakan fungsi print\n",
    "1. Belajar\n",
    "2. ajar\n",
    "3. Pemrograman\n",
    "4. gram\n",
    "5. Python\n",
    "6. Py\n",
    "7. gram Python\n",
    "8. Pemrograman Python"
   ]
  },
  {
   "cell_type": "code",
   "execution_count": 1,
   "id": "09c4a32a",
   "metadata": {},
   "outputs": [
    {
     "name": "stdout",
     "output_type": "stream",
     "text": [
      "Belajar\n",
      "ajar\n",
      "Pemrograman \n",
      "gram\n",
      "Py\n",
      "graman Python\n",
      "Pemrograman Python\n"
     ]
    }
   ],
   "source": [
    "kalimat = 'Belajar Pemrograman Python'\n",
    "print(kalimat[0:7]) #Belajar\n",
    "print(kalimat[3:7]) #ajar\n",
    "print(kalimat[8:20]) #Pemrograman\n",
    "print(kalimat[13:17]) #gram\n",
    "print(kalimat[20:22]) #Py\n",
    "print(kalimat[13:26]) #gram Python\n",
    "print(kalimat[8:26]) #Pemrograman Python"
   ]
  },
  {
   "cell_type": "markdown",
   "id": "dc342ae4",
   "metadata": {},
   "source": [
    "# Latihan 4\n",
    "<p>1. Buatlah program untuk mengecek bahwa sebuah email termasuk valid atau tidak. Valid diartikan True dan tidak valid diartikan False Berikut contoh test case yang bisa digunakan sebagai acuan</p>\n",
    " alunsujjada@gmailcom -> False <br>\n",
    " alunsujjada@gmail.com -> True <br>\n",
    " alun.sujjada@gmail.com -> False <br>\n",
    " alunsujjada.gmail.com -> False <br>\n",
    " alun.sujjada@gmailcom -> False <br>"
   ]
  },
  {
   "cell_type": "code",
   "execution_count": 5,
   "id": "1bf0d7c8",
   "metadata": {},
   "outputs": [
    {
     "name": "stdout",
     "output_type": "stream",
     "text": [
      "alunsujjada@gmailcom -> False\n",
      "alunsujjada@gmail.com -> True\n",
      "alun.sujjada@gmail.com -> False\n",
      "alunsujjada.gmail.com -> False\n",
      "alun.sujjada@gmailcom -> False\n"
     ]
    }
   ],
   "source": [
    "def isEmailValid(email):\n",
    "    content = email.split(\"@\")\n",
    "\n",
    "    haveNoSpace = email.find(\" \") == -1\n",
    "\n",
    "    isContent = len(content) == 2\n",
    "\n",
    "    isIdentifier = content[0].isidentifier()\n",
    "\n",
    "    isDomain = len(content) == 2 and content[1].find(\".\") != -1 and (not content[1].startswith(\".\")) and (not content[1].endswith(\".\"))\n",
    "    \n",
    "    return haveNoSpace and isContent and isIdentifier and isDomain\n",
    "\n",
    "emails = [\"alunsujjada@gmailcom\", \"alunsujjada@gmail.com\", \"alun.sujjada@gmail.com\", \"alunsujjada.gmail.com\", \"alun.sujjada@gmailcom\"]\n",
    "\n",
    "for email in emails:\n",
    "    isValid = isEmailValid(email)\n",
    "    print(f\"{email} -> {isValid}\")"
   ]
  }
 ],
 "metadata": {
  "kernelspec": {
   "display_name": "Python 3 (ipykernel)",
   "language": "python",
   "name": "python3"
  },
  "language_info": {
   "codemirror_mode": {
    "name": "ipython",
    "version": 3
   },
   "file_extension": ".py",
   "mimetype": "text/x-python",
   "name": "python",
   "nbconvert_exporter": "python",
   "pygments_lexer": "ipython3",
   "version": "3.9.12"
  }
 },
 "nbformat": 4,
 "nbformat_minor": 5
}
